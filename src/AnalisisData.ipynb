{
 "cells": [
  {
   "cell_type": "code",
   "execution_count": 1,
   "outputs": [],
   "source": [
    "import pandas as pd\n",
    "df = pd.read_csv(\"master.csv\")"
   ],
   "metadata": {
    "collapsed": false,
    "pycharm": {
     "name": "#%%\n"
    }
   }
  },
  {
   "cell_type": "code",
   "execution_count": 2,
   "outputs": [
    {
     "data": {
      "text/plain": "Index(['country', 'year', 'sex', 'age', 'suicides_no', 'population',\n       'suicides/100k pop', 'country-year', 'HDI for year',\n       ' gdp_for_year ($) ', 'gdp_per_capita ($)', 'generation'],\n      dtype='object')"
     },
     "execution_count": 2,
     "metadata": {},
     "output_type": "execute_result"
    }
   ],
   "source": [
    "# Untuk mengetahui terdapat kolom apa saja\n",
    "df.columns"
   ],
   "metadata": {
    "collapsed": false,
    "pycharm": {
     "name": "#%%\n"
    }
   }
  },
  {
   "cell_type": "code",
   "execution_count": 3,
   "outputs": [
    {
     "data": {
      "text/plain": "country                object\nyear                    int64\nsex                    object\nage                    object\nsuicides_no             int64\npopulation              int64\nsuicides/100k pop     float64\ncountry-year           object\nHDI for year          float64\n gdp_for_year ($)      object\ngdp_per_capita ($)      int64\ngeneration             object\ndtype: object"
     },
     "execution_count": 3,
     "metadata": {},
     "output_type": "execute_result"
    }
   ],
   "source": [
    "# Untuk mengetahui tipe data dari masing-masing kolom\n",
    "df.dtypes"
   ],
   "metadata": {
    "collapsed": false,
    "pycharm": {
     "name": "#%%\n"
    }
   }
  },
  {
   "cell_type": "code",
   "execution_count": null,
   "outputs": [],
   "source": [
    "# KARAKTERISTIK TIAP KOLOM"
   ],
   "metadata": {
    "collapsed": false,
    "pycharm": {
     "name": "#%%\n"
    }
   }
  },
  {
   "cell_type": "code",
   "execution_count": null,
   "outputs": [],
   "source": [
    "df.groupby(\"country\")[\"suicides_no\"].sum()"
   ],
   "metadata": {
    "collapsed": false,
    "pycharm": {
     "name": "#%%\n"
    }
   }
  },
  {
   "cell_type": "markdown",
   "source": [
    "Dapat diketahui ada 101 negara yang terdata"
   ],
   "metadata": {
    "collapsed": false
   }
  },
  {
   "cell_type": "code",
   "execution_count": 3,
   "outputs": [
    {
     "name": "stdout",
     "output_type": "stream",
     "text": [
      "2016\n",
      "1985\n"
     ]
    }
   ],
   "source": [
    "minimum = df.min()\n",
    "maximum = df.max()\n",
    "print(maximum[\"year\"])\n",
    "print(minimum[\"year\"])"
   ],
   "metadata": {
    "collapsed": false,
    "pycharm": {
     "name": "#%%\n"
    }
   }
  },
  {
   "cell_type": "markdown",
   "source": [
    "Diketahui rentang tahunnya 1985-2016"
   ],
   "metadata": {
    "collapsed": false
   }
  },
  {
   "cell_type": "code",
   "execution_count": 4,
   "outputs": [
    {
     "data": {
      "text/plain": "sex\nfemale    1559510\nmale      5188910\nName: suicides_no, dtype: int64"
     },
     "execution_count": 4,
     "metadata": {},
     "output_type": "execute_result"
    }
   ],
   "source": [
    "df.groupby(\"sex\")[\"suicides_no\"].sum()"
   ],
   "metadata": {
    "collapsed": false,
    "pycharm": {
     "name": "#%%\n"
    }
   }
  },
  {
   "cell_type": "markdown",
   "source": [
    "Pada dataset ini menerapkan jenis kelamin biner, yaitu \"male\" dan \"female\"\n",
    "Diketahui jumlah yang melakukan bunuh diri dari masing-masing jenis kelamin"
   ],
   "metadata": {
    "collapsed": false
   }
  },
  {
   "cell_type": "code",
   "execution_count": null,
   "outputs": [],
   "source": [
    "df.groupby(\"age\")[\"suicides_no\"].sum()"
   ],
   "metadata": {
    "collapsed": false,
    "pycharm": {
     "name": "#%%\n"
    }
   }
  },
  {
   "cell_type": "markdown",
   "source": [
    "Diketahui jumlah kasus bunuh diri dari masing-masing kelompok usia"
   ],
   "metadata": {
    "collapsed": false
   }
  },
  {
   "cell_type": "code",
   "execution_count": null,
   "outputs": [],
   "source": [
    "minimum = df.min()\n",
    "maximum = df.max()\n",
    "print(\"Jumlah kasus bunuh diri terbanyak \", maximum[\"suicides_no\"])\n",
    "print(\"Jumlah kasus bunuh diri terkecil \", minimum[\"suicides_no\"])\n",
    "print(\"Rata-rata kasus bunuh diri \",df[\"suicides_no\"].mean())"
   ],
   "metadata": {
    "collapsed": false,
    "pycharm": {
     "name": "#%%\n"
    }
   }
  },
  {
   "cell_type": "code",
   "execution_count": null,
   "outputs": [],
   "source": [
    "minimum = df.min()\n",
    "maximum = df.max()\n",
    "print(\"Jumlah populasi terbanyak \", maximum[\"population\"])\n",
    "print(\"Jumlah populasi terkecil \", minimum[\"population\"])\n",
    "print(\"Rata-rata populasi \",df[\"population\"].mean())"
   ],
   "metadata": {
    "collapsed": false,
    "pycharm": {
     "name": "#%%\n"
    }
   }
  },
  {
   "cell_type": "code",
   "execution_count": null,
   "outputs": [],
   "source": [
    "minimum = df.min()\n",
    "maximum = df.max()\n",
    "print(\"Jumlah kasus bunuh diri per 100 ribu populasi terbanyak \", maximum[\"suicides/100k pop\"])\n",
    "print(\"Jumlah kasus bunuh diri per 100 ribu populasi terkecil \", minimum[\"suicides/100k pop\"])\n",
    "print(\"Rata-rata kasus bunuh diri per 100 ribu populasi \",df[\"suicides/100k pop\"].mean())"
   ],
   "metadata": {
    "collapsed": false,
    "pycharm": {
     "name": "#%%\n"
    }
   }
  },
  {
   "cell_type": "code",
   "execution_count": null,
   "outputs": [],
   "source": [
    "df[\"country-year\"].value_counts()"
   ],
   "metadata": {
    "collapsed": false,
    "pycharm": {
     "name": "#%%\n"
    }
   }
  },
  {
   "cell_type": "markdown",
   "source": [
    "Diketahui dalam tiap tahunnya, suatu negara memiliki data dari rentang 12-10 data"
   ],
   "metadata": {
    "collapsed": false
   }
  },
  {
   "cell_type": "code",
   "execution_count": 5,
   "outputs": [
    {
     "name": "stdout",
     "output_type": "stream",
     "text": [
      "HDI terbesar per tahun  0.9440000000000001\n",
      "HDI terkecil per tahun  0.483\n",
      "HDI per tahun rata-rata  0.7766011477761837\n"
     ]
    }
   ],
   "source": [
    "minimum = df.min()\n",
    "maximum = df.max()\n",
    "print(\"HDI terbesar per tahun \", maximum[\"HDI for year\"])\n",
    "print(\"HDI terkecil per tahun \", minimum[\"HDI for year\"])\n",
    "print(\"HDI per tahun rata-rata \",df[\"HDI for year\"].mean())"
   ],
   "metadata": {
    "collapsed": false,
    "pycharm": {
     "name": "#%%\n"
    }
   }
  },
  {
   "cell_type": "code",
   "execution_count": null,
   "outputs": [],
   "source": [
    "df[' gdp_for_year ($) '] = df[' gdp_for_year ($) '].apply(lambda x: x.replace(',', '')).astype(int)\n",
    "minimum = df.min()\n",
    "maximum = df.max()\n",
    "print(\"PDB terbesar per tahun \", maximum[\" gdp_for_year ($) \"])\n",
    "print(\"PDB terkecil per tahun \", minimum[\" gdp_for_year ($) \"])\n",
    "print(\"PDB per tahun rata-rata \",df[\" gdp_for_year ($) \"].mean())"
   ],
   "metadata": {
    "collapsed": false,
    "pycharm": {
     "name": "#%%\n"
    }
   }
  },
  {
   "cell_type": "code",
   "execution_count": null,
   "outputs": [],
   "source": [
    "minimum = df.min()\n",
    "maximum = df.max()\n",
    "print(\"PDB per kapita terbesar per tahun \", maximum[\"gdp_per_capita ($)\"])\n",
    "print(\"PDB per kapita terkecil per tahun \", minimum[\"gdp_per_capita ($)\"])\n",
    "print(\"PDB per kapita per tahun rata-rata \",df[\"gdp_per_capita ($)\"].mean())"
   ],
   "metadata": {
    "collapsed": false,
    "pycharm": {
     "name": "#%%\n"
    }
   }
  },
  {
   "cell_type": "code",
   "execution_count": null,
   "outputs": [],
   "source": [
    "df[\"generation\"].value_counts()"
   ],
   "metadata": {
    "collapsed": false,
    "pycharm": {
     "name": "#%%\n"
    }
   }
  },
  {
   "cell_type": "markdown",
   "source": [
    "Diketahui berapa kali masing-masing generasi terdata\n",
    "\n"
   ],
   "metadata": {
    "collapsed": false
   }
  },
  {
   "cell_type": "code",
   "execution_count": null,
   "outputs": [],
   "source": [
    "import pandas as pd\n",
    "df = pd.read_csv(\"master.csv\")"
   ],
   "metadata": {
    "collapsed": false,
    "pycharm": {
     "name": "#%%\n"
    }
   }
  },
  {
   "cell_type": "code",
   "execution_count": null,
   "outputs": [],
   "source": [
    "for col in df:\n",
    "    if df[col].dtype=='int64' or df[col].dtype=='float64':\n",
    "        print(col)\n",
    "        print(\"max value : \",df[col].max())\n",
    "        print(\"min value : \",df[col].min())\n",
    "        print(\"mean : \",df[col].mean())\n",
    "        print(\"standar deviasi : \",df[col].std())\n",
    "        print(\"quantile 25% : \",df[col].quantile(0.25))\n",
    "        print(\"quantile 50% : \",df[col].quantile(0.5))\n",
    "        print(\"quantile 75% : \",df[col].quantile(0.75))\n",
    "        print(\" \")"
   ],
   "metadata": {
    "collapsed": false,
    "pycharm": {
     "name": "#%%\n"
    }
   }
  },
  {
   "cell_type": "code",
   "execution_count": null,
   "outputs": [],
   "source": [
    "df[\"country\"].value_counts()"
   ],
   "metadata": {
    "collapsed": false,
    "pycharm": {
     "name": "#%%\n"
    }
   }
  },
  {
   "cell_type": "code",
   "execution_count": null,
   "outputs": [],
   "source": [
    "df[\"sex\"].value_counts()"
   ],
   "metadata": {
    "collapsed": false,
    "pycharm": {
     "name": "#%%\n"
    }
   }
  },
  {
   "cell_type": "code",
   "execution_count": null,
   "outputs": [],
   "source": [
    "df[\"age\"].value_counts()"
   ],
   "metadata": {
    "collapsed": false,
    "pycharm": {
     "name": "#%%\n"
    }
   }
  },
  {
   "cell_type": "code",
   "execution_count": null,
   "outputs": [],
   "source": [
    "df[\"country-year\"].value_counts()"
   ],
   "metadata": {
    "collapsed": false,
    "pycharm": {
     "name": "#%%\n"
    }
   }
  },
  {
   "cell_type": "code",
   "execution_count": null,
   "outputs": [],
   "source": [
    "df[\"generation\"].value_counts()"
   ],
   "metadata": {
    "collapsed": false,
    "pycharm": {
     "name": "#%%\n"
    }
   }
  },
  {
   "cell_type": "code",
   "execution_count": null,
   "outputs": [],
   "source": [
    "df[\" gdp_for_year ($) \"].value_counts()"
   ],
   "metadata": {
    "collapsed": false,
    "pycharm": {
     "name": "#%%\n"
    }
   }
  },
  {
   "cell_type": "markdown",
   "source": [
    "KORELASI DATA ANTAR KOLOM"
   ],
   "metadata": {
    "collapsed": false
   }
  },
  {
   "cell_type": "code",
   "execution_count": null,
   "outputs": [],
   "source": [
    "#suicide_no DENGAN YEAR\n",
    "df[\"year\"].corr(df[\"suicides_no\"])"
   ],
   "metadata": {
    "collapsed": false,
    "pycharm": {
     "name": "#%%\n"
    }
   }
  },
  {
   "cell_type": "code",
   "execution_count": null,
   "outputs": [],
   "source": [
    "#year dengan population\n",
    "df[\"year\"].corr(df[\"population\"])"
   ],
   "metadata": {
    "collapsed": false,
    "pycharm": {
     "name": "#%%\n"
    }
   }
  },
  {
   "cell_type": "code",
   "execution_count": null,
   "outputs": [],
   "source": [
    "#year dengan suicide/100k pop\n",
    "df[\"year\"].corr(df[\"suicides/100k pop\"])"
   ],
   "metadata": {
    "collapsed": false,
    "pycharm": {
     "name": "#%%\n"
    }
   }
  },
  {
   "cell_type": "code",
   "execution_count": null,
   "outputs": [],
   "source": [
    "#year dengan HDI for year\n",
    "df[\"year\"].corr(df[\"HDI for year\"])"
   ],
   "metadata": {
    "collapsed": false,
    "pycharm": {
     "name": "#%%\n"
    }
   }
  },
  {
   "cell_type": "code",
   "execution_count": null,
   "outputs": [],
   "source": [
    "#year dengan gdp per capita\n",
    "df[\"year\"].corr(df[\"gdp_per_capita ($)\"])"
   ],
   "metadata": {
    "collapsed": false,
    "pycharm": {
     "name": "#%%\n"
    }
   }
  },
  {
   "cell_type": "code",
   "execution_count": null,
   "outputs": [],
   "source": [
    "#suicide no dengan population\n",
    "df[\"suicides_no\"].corr(df[\"population\"])"
   ],
   "metadata": {
    "collapsed": false,
    "pycharm": {
     "name": "#%%\n"
    }
   }
  },
  {
   "cell_type": "code",
   "execution_count": null,
   "outputs": [],
   "source": [
    "#suicide no dengan suicide/100k pop\n",
    "df[\"suicides_no\"].corr(df[\"suicides/100k pop\"])"
   ],
   "metadata": {
    "collapsed": false,
    "pycharm": {
     "name": "#%%\n"
    }
   }
  },
  {
   "cell_type": "code",
   "execution_count": null,
   "outputs": [],
   "source": [
    "#suicide no dengan gdp percapita\n",
    "df[\"suicides_no\"].corr(df[\"gdp_per_capita ($)\"])"
   ],
   "metadata": {
    "collapsed": false,
    "pycharm": {
     "name": "#%%\n"
    }
   }
  },
  {
   "cell_type": "code",
   "execution_count": null,
   "outputs": [],
   "source": [
    "#population dengan HDI for years\n",
    "df[\"population\"].corr(df[\"HDI for year\"])"
   ],
   "metadata": {
    "collapsed": false,
    "pycharm": {
     "name": "#%%\n"
    }
   }
  },
  {
   "cell_type": "code",
   "execution_count": null,
   "outputs": [],
   "source": [
    "#population dengan gdp per capita\n",
    "df[\"population\"].corr(df[\"gdp_per_capita ($)\"])"
   ],
   "metadata": {
    "collapsed": false,
    "pycharm": {
     "name": "#%%\n"
    }
   }
  },
  {
   "cell_type": "code",
   "execution_count": null,
   "outputs": [],
   "source": [
    "#suicide/100k pop dengan HDI for years\n",
    "df[\"suicides/100k pop\"].corr(df[\"HDI for year\"])"
   ],
   "metadata": {
    "collapsed": false,
    "pycharm": {
     "name": "#%%\n"
    }
   }
  },
  {
   "cell_type": "code",
   "execution_count": null,
   "outputs": [],
   "source": [
    "#suicide/100k pop dengan gdp per capita\n",
    "df[\"suicides/100k pop\"].corr(df[\"gdp_per_capita ($)\"])"
   ],
   "metadata": {
    "collapsed": false,
    "pycharm": {
     "name": "#%%\n"
    }
   }
  },
  {
   "cell_type": "code",
   "execution_count": null,
   "outputs": [],
   "source": [
    "#HDI for year dengan gdp per capita\n",
    "df[\"HDI for year\"].corr(df[\"gdp_per_capita ($)\"])\n",
    "### import library yang dibutuhkan"
   ],
   "metadata": {
    "collapsed": false,
    "pycharm": {
     "name": "#%%\n"
    }
   }
  },
  {
   "cell_type": "code",
   "execution_count": null,
   "outputs": [],
   "source": [
    "import pandas as pd\n",
    "import matplotlib.pyplot as plt\n",
    "from matplotlib import rcParams, cycler"
   ],
   "metadata": {
    "collapsed": false,
    "pycharm": {
     "name": "#%%\n"
    }
   }
  },
  {
   "cell_type": "code",
   "execution_count": null,
   "outputs": [],
   "source": [
    "# Menggunakan style ggplot\n",
    "plt.style.use('ggplot')"
   ],
   "metadata": {
    "collapsed": false,
    "pycharm": {
     "name": "#%%\n"
    }
   }
  },
  {
   "cell_type": "code",
   "execution_count": null,
   "outputs": [],
   "source": [
    "df = pd.read_csv(\"master.csv\")"
   ],
   "metadata": {
    "collapsed": false,
    "pycharm": {
     "name": "#%%\n"
    }
   }
  },
  {
   "cell_type": "code",
   "execution_count": null,
   "outputs": [],
   "source": [
    "print(\"Ukuran dataset:\", df.shape)"
   ],
   "metadata": {
    "collapsed": false,
    "pycharm": {
     "name": "#%%\n"
    }
   }
  },
  {
   "cell_type": "code",
   "execution_count": null,
   "outputs": [],
   "source": [
    "df.head()"
   ],
   "metadata": {
    "collapsed": false,
    "pycharm": {
     "name": "#%%\n"
    }
   }
  },
  {
   "cell_type": "markdown",
   "source": [
    "![image.png](attachment:image.png)"
   ],
   "metadata": {
    "collapsed": false
   }
  },
  {
   "cell_type": "code",
   "execution_count": null,
   "outputs": [],
   "source": [
    "# Parameter global awal untuk seluruh visualisasi\n",
    "rcParams['figure.figsize'] = 12, 6\n",
    "rcParams['lines.linewidth'] = 2.5\n",
    "rcParams['xtick.labelsize'] = 'x-large'\n",
    "rcParams['ytick.labelsize'] = 'x-large'\n",
    "rcParams['axes.labelsize'] = 'xx-large'\n",
    "rcParams['axes.titlesize'] = 'xx-large'\n",
    "rcParams['legend.fontsize'] = 'large'"
   ],
   "metadata": {
    "collapsed": false,
    "pycharm": {
     "name": "#%%\n"
    }
   }
  },
  {
   "cell_type": "markdown",
   "source": [
    "# Visualisasi Data"
   ],
   "metadata": {
    "collapsed": false
   }
  },
  {
   "cell_type": "markdown",
   "source": [
    "## Perbandingan Kategori"
   ],
   "metadata": {
    "collapsed": false
   }
  },
  {
   "cell_type": "code",
   "execution_count": null,
   "outputs": [],
   "source": [
    "title = 'Perbandingan Jumlah Kasus Bunuh Diri Antara Pria dan Wanita'\n",
    "df.groupby('sex').sum()['suicides_no'].plot(kind='barh', figsize=(8, 4), title=title)\n",
    "plt.gca().yaxis.grid(False)\n",
    "plt.xlabel('Jumlah Kasus')\n",
    "plt.show()"
   ],
   "metadata": {
    "collapsed": false,
    "pycharm": {
     "name": "#%%\n"
    }
   }
  },
  {
   "cell_type": "code",
   "execution_count": null,
   "outputs": [],
   "source": [
    "title = 'Jumlah Kasus Untuk Setiap Generasi Berdasarkan Generasi'\n",
    "ax = df.groupby(['generation', 'sex']).sum().unstack()['suicides_no'].plot(kind='bar', figsize=(12, 6), title=title)\n",
    "ax.grid(axis='x')\n",
    "ax.set_ylabel('Jumlah Kasus')\n",
    "plt.show()"
   ],
   "metadata": {
    "collapsed": false,
    "pycharm": {
     "name": "#%%\n"
    }
   }
  },
  {
   "cell_type": "code",
   "execution_count": null,
   "outputs": [],
   "source": [
    "age_dict = {'5-14 years':0, '15-24 years': 1, '25-34 years': 2,\n",
    "            '35-54 years': 3, '55-74 years': 4, '75+ years': 5}"
   ],
   "metadata": {
    "collapsed": false,
    "pycharm": {
     "name": "#%%\n"
    }
   }
  },
  {
   "cell_type": "code",
   "execution_count": null,
   "outputs": [],
   "source": [
    "title = 'Jumlah Kasus Bunuh Diri untuk Setiap Kategori Umur'\n",
    "df.groupby('age').sum()['suicides_no'].sort_index(key=lambda x: x.map(age_dict))\\\n",
    "    .plot(kind='bar', figsize=(10, 5), title=title, ylabel='Jumlah Kasus')\n",
    "plt.grid(axis='x')\n",
    "plt.show()"
   ],
   "metadata": {
    "collapsed": false,
    "pycharm": {
     "name": "#%%\n"
    }
   }
  },
  {
   "cell_type": "markdown",
   "source": [
    "## Data Terhadap Waktu"
   ],
   "metadata": {
    "collapsed": false
   }
  },
  {
   "cell_type": "code",
   "execution_count": null,
   "outputs": [],
   "source": [
    "df[df['year'] < 2016].groupby('year').sum()['suicides_no'].plot(kind='line', figsize=(14, 6), ylabel='Jumlah Kasus')\n",
    "plt.title(\"Jumlah Kasus Bunuh Diri pada Tahun 1985-2015\")\n",
    "plt.show()"
   ],
   "metadata": {
    "collapsed": false,
    "pycharm": {
     "name": "#%%\n"
    }
   }
  },
  {
   "cell_type": "code",
   "execution_count": null,
   "outputs": [],
   "source": [
    "ax_data = df[df['country'] == 'Singapore'].groupby('year')\n",
    "ax1_values = ax_data.sum()['suicides_no']\n",
    "ax2_values = ax_data.mean()['population']\n",
    "\n",
    "fig, ax1 = plt.subplots(figsize=(12, 6))\n",
    "ax1.set_title(\"Jumlah Kasus Bunuh Diri dan Populasi Negara Singapura Per Tahun\")\n",
    "\n",
    "color = 'tab:red'\n",
    "ax1.set_xlabel('Tahun')\n",
    "ax1.set_ylabel('Jumlah Kasus Bunuh Diri', color=color)\n",
    "ax1.grid(None)\n",
    "\n",
    "ax1.plot(pd.to_datetime(ax_data.count().index, format='%Y'), ax1_values, color=color)\n",
    "ax1.tick_params(axis='y', labelcolor=color)\n",
    "\n",
    "ax2 = ax1.twinx()\n",
    "\n",
    "color = 'tab:blue'\n",
    "ax2.set_ylabel('Jumlah Populasi', color=color)\n",
    "ax2.plot(pd.to_datetime(ax_data.count().index, format='%Y'), ax2_values, color=color)\n",
    "ax2.tick_params(axis='y', labelcolor=color)\n",
    "ax2.grid(None)\n",
    "\n",
    "fig.tight_layout()\n",
    "plt.show()"
   ],
   "metadata": {
    "collapsed": false,
    "pycharm": {
     "name": "#%%\n"
    }
   }
  },
  {
   "cell_type": "markdown",
   "source": [
    "## Penampilan hierarki dan hubungan keseluruhan-bagian"
   ],
   "metadata": {
    "collapsed": false
   }
  },
  {
   "cell_type": "markdown",
   "source": [
    "### Banyaknya data umur"
   ],
   "metadata": {
    "collapsed": false
   }
  },
  {
   "cell_type": "code",
   "execution_count": null,
   "outputs": [],
   "source": [
    "df.groupby('generation').count().plot(kind='pie', y='year', autopct='%1.1f%%',\n",
    "                                      legend=False, textprops={'fontsize': 14},\n",
    "                                      title='Pie Chart Banyaknya Data untuk Setiap Generasi',\n",
    "                                      figsize=(7, 7))\n",
    "plt.ylabel(None)\n",
    "plt.show()"
   ],
   "metadata": {
    "collapsed": false,
    "pycharm": {
     "name": "#%%\n"
    }
   }
  },
  {
   "cell_type": "code",
   "execution_count": null,
   "outputs": [],
   "source": [
    "smaller_age_group = {'5-14 years': '5-24 years','15-24 years': '5-24 years', '25-34 years': '25-54 years',\n",
    "                     '35-54 years': '25-54 years', '55-74 years': '55+ years','75+ years': '55+ years'}\n",
    "smaller_age_dict = {'5-24 years': 0, '25-54 years': 1, '55+ years': 2}"
   ],
   "metadata": {
    "collapsed": false,
    "pycharm": {
     "name": "#%%\n"
    }
   }
  },
  {
   "cell_type": "code",
   "execution_count": null,
   "outputs": [],
   "source": [
    "age_df = df[['age', 'sex', 'suicides_no']].copy()\n",
    "age_df['age'] = age_df['age'].map(smaller_age_group)\n",
    "\n",
    "\n",
    "age_df.groupby(['age', 'sex']).sum()['suicides_no'].unstack().sort_index(key=lambda x: x.map(smaller_age_dict))\\\n",
    "    .plot(kind='pie', subplots=True, legend=False, autopct='%1.1f%%', textprops={'fontsize': 14})\n",
    "plt.title('Pie Chart Kasus Bunuh Diri Berdasarkan Jenis Kelamin dan Umur', x=0)\n",
    "plt.tight_layout()\n",
    "plt.show()"
   ],
   "metadata": {
    "collapsed": false,
    "pycharm": {
     "name": "#%%\n"
    }
   }
  },
  {
   "cell_type": "markdown",
   "source": [
    "## Plotting Relationships (Korelasi)"
   ],
   "metadata": {
    "collapsed": false
   }
  },
  {
   "cell_type": "markdown",
   "source": [
    "### Hubungan antara jumlah populasi dengan jumlah kasus bunuh diri pada tahun 2015"
   ],
   "metadata": {
    "collapsed": false
   }
  },
  {
   "cell_type": "code",
   "execution_count": null,
   "outputs": [],
   "source": [
    "# Bubble plot untuk menunjukkan korelasi jumlah kasus, populasi, dan GDP pada tahun 2015\n",
    "# serta populasi < 100 juta (karena ada beberapa negara yang mempunyai populasi sangat tinggi seperti Amerika Serikat)\n",
    "grouped_df = df[df['year'] == 2015].groupby('country').sum()\n",
    "grouped_df = grouped_df[grouped_df['population'] < 1e8]"
   ],
   "metadata": {
    "collapsed": false,
    "pycharm": {
     "name": "#%%\n"
    }
   }
  },
  {
   "cell_type": "code",
   "execution_count": null,
   "outputs": [],
   "source": [
    "corr = grouped_df['suicides_no'].corr(grouped_df['population'])\n",
    "print(\"Nilai korelasi antara jumlah kasus dengan jumlah populasi suatu negara adalah\", corr)"
   ],
   "metadata": {
    "collapsed": false,
    "pycharm": {
     "name": "#%%\n"
    }
   }
  },
  {
   "cell_type": "code",
   "execution_count": null,
   "outputs": [],
   "source": [
    "plt.figure(figsize=(16, 8))\n",
    "plt.scatter(grouped_df['population'], grouped_df['suicides_no'], alpha=0.7)\n",
    "plt.xlabel('Populasi')\n",
    "plt.ylabel('Jumlah Kasus')\n",
    "plt.title('Jumlah Kasus Bunuh Diri terhadap Populasi')\n",
    "plt.show()"
   ],
   "metadata": {
    "collapsed": false,
    "pycharm": {
     "name": "#%%\n"
    }
   }
  },
  {
   "cell_type": "markdown",
   "source": [
    "Jumlah populasi berkorelasi cukup kuat dengan jumlah kasus bunuh diri (0.73). Namun, PDB Per Kapita tidak mempunyai korelasi dengan populasi dan jumlah kasus."
   ],
   "metadata": {
    "collapsed": false
   }
  },
  {
   "cell_type": "markdown",
   "source": [
    "### Korelasi antara jumlah populasi, jumlah kasus bunuh diri, dan GDP pada tahun 2010"
   ],
   "metadata": {
    "collapsed": false
   }
  },
  {
   "cell_type": "code",
   "execution_count": null,
   "outputs": [],
   "source": [
    "average = df[df['year'] == 2010].groupby('country').mean()\n",
    "total = df[df['year'] == 2010].groupby('country').sum()"
   ],
   "metadata": {
    "collapsed": false,
    "pycharm": {
     "name": "#%%\n"
    }
   }
  },
  {
   "cell_type": "code",
   "execution_count": null,
   "outputs": [],
   "source": [
    "pd.concat([total['suicides/100k pop'], average['HDI for year'], average['gdp_per_capita ($)']], axis=1).corr()"
   ],
   "metadata": {
    "collapsed": false,
    "pycharm": {
     "name": "#%%\n"
    }
   }
  },
  {
   "cell_type": "code",
   "execution_count": null,
   "outputs": [],
   "source": [
    "plt.figure(figsize=(16, 8))\n",
    "plot = plt.scatter(x=total['suicides/100k pop'], y=average['HDI for year'], c=average['gdp_per_capita ($)'],\n",
    "                  cmap='YlOrBr')\n",
    "plt.title('Relasi antara Jumlah Kasus/100 ribu Populasi, IPM, dan PDB Per Kapita')\n",
    "plt.xlabel('Jumlah Kasus Bunuh Diri Per 100 ribu Populasi')\n",
    "plt.ylabel('Indeks Pembangunan Manusia')\n",
    "\n",
    "plt.colorbar()\n",
    "\n",
    "plt.show()"
   ],
   "metadata": {
    "collapsed": false,
    "pycharm": {
     "name": "#%%\n"
    }
   }
  },
  {
   "cell_type": "markdown",
   "source": [
    "Relasi di sini adalah semakin tinggi indeks pembangunan manusia (IPM) suatu negara, semakin tinggi pula PDB per kapitanya (koefisien korelasi: 0.80). Sedangkan, jumlah kasus bunuh diri per 100 ribu tidak terlalu terpengaruh IPM (korelasi: 0.21) maupun PDB (korelasi: 0.02)."
   ],
   "metadata": {
    "collapsed": false
   }
  },
  {
   "cell_type": "markdown",
   "source": [
    "# Korelasi Data Numerik"
   ],
   "metadata": {
    "collapsed": false
   }
  },
  {
   "cell_type": "code",
   "execution_count": null,
   "outputs": [],
   "source": [
    "import seaborn as sns"
   ],
   "metadata": {
    "collapsed": false,
    "pycharm": {
     "name": "#%%\n"
    }
   }
  },
  {
   "cell_type": "code",
   "execution_count": null,
   "outputs": [],
   "source": [
    "corr_df = df.corr()\n",
    "\n",
    "plt.figure(figsize=(10, 8))\n",
    "sns.heatmap(corr_df, annot=True)\n",
    "plt.title(\"Heatmap Korelasi Kolom-kolom dengan Tipe Data Numerik\")\n",
    "\n",
    "plt.show()"
   ],
   "metadata": {
    "collapsed": false,
    "pycharm": {
     "name": "#%%\n"
    }
   }
  }
 ],
 "metadata": {
  "kernelspec": {
   "display_name": "Python 3",
   "language": "python",
   "name": "python3"
  },
  "language_info": {
   "codemirror_mode": {
    "name": "ipython",
    "version": 2
   },
   "file_extension": ".py",
   "mimetype": "text/x-python",
   "name": "python",
   "nbconvert_exporter": "python",
   "pygments_lexer": "ipython2",
   "version": "2.7.6"
  }
 },
 "nbformat": 4,
 "nbformat_minor": 0
}